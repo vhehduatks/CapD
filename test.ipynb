{
 "metadata": {
  "language_info": {
   "codemirror_mode": {
    "name": "ipython",
    "version": 3
   },
   "file_extension": ".py",
   "mimetype": "text/x-python",
   "name": "python",
   "nbconvert_exporter": "python",
   "pygments_lexer": "ipython3",
   "version": "3.8.5-final"
  },
  "orig_nbformat": 2,
  "kernelspec": {
   "name": "python385jvsc74a57bd0e4997e6457fd206359092b599bea291d3dc401a2d445c11f3660ede0d25a0149",
   "display_name": "Python 3.8.5 64-bit (conda)"
  },
  "metadata": {
   "interpreter": {
    "hash": "e4997e6457fd206359092b599bea291d3dc401a2d445c11f3660ede0d25a0149"
   }
  }
 },
 "nbformat": 4,
 "nbformat_minor": 2,
 "cells": [
  {
   "cell_type": "code",
   "execution_count": 1,
   "metadata": {},
   "outputs": [],
   "source": [
    "import os\n",
    "import dlib\n",
    "import cv2\n",
    "import numpy as np\n",
    "import matplotlib.pyplot as plt\n",
    "import matplotlib.patches as patches\n",
    "import matplotlib.patheffects as path_effects\n"
   ]
  },
  {
   "cell_type": "code",
   "execution_count": 2,
   "metadata": {},
   "outputs": [],
   "source": [
    "landpath=r'C:\\Users\\82108\\Desktop\\dlib_model_and_pred\\shape_predictor_68_face_landmarks.dat'\n",
    "recpath=r'C:\\Users\\82108\\Desktop\\dlib_model_and_pred\\dlib_face_recognition_resnet_model_v1.dat'\n",
    "\n",
    "detector=dlib.get_frontal_face_detector()\n",
    "shaper=dlib.shape_predictor(landpath)\n",
    "facerec=dlib.face_recognition_model_v1(recpath)\n",
    "\n",
    "img_path='t.jpeg'\n",
    "desc_dec=list()\n"
   ]
  },
  {
   "cell_type": "code",
   "execution_count": 3,
   "metadata": {},
   "outputs": [],
   "source": [
    "\n",
    "def face_finder(img):\n",
    "    face_marks=list()\n",
    "    face_rect=list()\n",
    "    face_score=list()\n",
    "    detected,score,_=detector.run(img,1,-0.8)\n",
    "    if not detected:\n",
    "        return face_marks,face_rect,face_score\n",
    "\n",
    "    for i,face in enumerate(detected):\n",
    "        rect=((face.left(),face.top()),(face.right(),face.bottom()))\n",
    "        shape=shaper(img,face)\n",
    "\n",
    "        face_marks.append(shape)\n",
    "        face_rect.append(rect)\n",
    "        face_score.append(score[i])\n",
    "    return face_marks,face_rect,face_score\n"
   ]
  },
  {
   "cell_type": "code",
   "execution_count": 4,
   "metadata": {},
   "outputs": [],
   "source": [
    "\n",
    "def face_encode(img,face_marks):\n",
    "    face_descriptors=list()\n",
    "    \n",
    "    for mark in face_marks:\n",
    "        descriptor=facerec.compute_face_descriptor(img,mark)\n",
    "        face_descriptors.append(np.array(descriptor))\n",
    "\n",
    "    return np.array(face_descriptors)\n",
    "\n",
    "def face_recognition(face_descriptors,img,rects):\n",
    "    fig,ax=plt.subplots(1,figsize=(20,20))\n",
    "    ax.imshow(img)\n",
    "    \n",
    "    for i,desc in enumerate(face_descriptors):\n",
    "        # print(rects)\n",
    "        rect=patches.Rectangle(rects[i][0],\n",
    "            rects[i][1][1]-rects[i][0][1],\n",
    "            rects[i][1][0]-rects[i][0][0],\n",
    "            linewidth=2,edgecolor='w',facecolor='none')\n",
    "        ax.add_patch(rect)\n",
    "    # plt.show()\n"
   ]
  },
  {
   "cell_type": "code",
   "execution_count": 5,
   "metadata": {},
   "outputs": [],
   "source": [
    "def make_result(score,rects,number):\n",
    "    fout=open(number+'.txt','w')\n",
    "    \n",
    "    for i,s in enumerate(score):\n",
    "        left=' '+str(rects[i][0][0])\n",
    "        top=' '+str(rects[i][0][1])\n",
    "        right=' '+str(rects[i][1][0])\n",
    "        bottom=' '+str(rects[i][1][1])\n",
    "        \n",
    "        line='1 '+str(score[i])+left+top+right+bottom+'\\n'\n",
    "        fout.write(line)\n",
    "    print('make result')\n",
    "    fout.close()"
   ]
  },
  {
   "cell_type": "code",
   "execution_count": 6,
   "metadata": {},
   "outputs": [],
   "source": [
    "def main():\n",
    "    img_number=0\n",
    "    img_path='test_img\\\\'\n",
    "    while(img_number<319):\n",
    "        \n",
    "        number=str('%07d'%img_number)\n",
    "        print(img_path+number+'.jpg')    \n",
    "        try:\n",
    "            \n",
    "            read_img=cv2.imread(img_path+number+'.jpg')\n",
    "            print(read_img.shape)\n",
    "        except:\n",
    "            print(\"except\")\n",
    "            break\n",
    "        img_rgb=cv2.cvtColor(read_img,cv2.COLOR_BGR2RGB)\n",
    "    \n",
    "        face_marks,face_rects,face_scores=face_finder(img_rgb)\n",
    "        face_descriptors=face_encode(img_rgb,face_marks)\n",
    "        face_recognition(face_descriptors,img_rgb,face_rects)\n",
    "        make_result(face_scores,face_rects,number)\n",
    "        img_number+=1\n",
    "    print(\"end\")\n",
    "        "
   ]
  },
  {
   "cell_type": "code",
   "execution_count": null,
   "metadata": {},
   "outputs": [],
   "source": [
    "main()"
   ]
  },
  {
   "cell_type": "code",
   "execution_count": null,
   "metadata": {},
   "outputs": [],
   "source": []
  }
 ]
}